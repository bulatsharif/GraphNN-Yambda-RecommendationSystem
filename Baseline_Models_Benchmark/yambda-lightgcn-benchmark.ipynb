{
 "cells": [
  {
   "cell_type": "code",
   "execution_count": 1,
   "id": "taken-virtue",
   "metadata": {
    "execution": {
     "iopub.execute_input": "2025-10-03T18:40:12.794437Z",
     "iopub.status.busy": "2025-10-03T18:40:12.793978Z",
     "iopub.status.idle": "2025-10-03T18:41:30.836256Z",
     "shell.execute_reply": "2025-10-03T18:41:30.836648Z",
     "shell.execute_reply.started": "2025-10-03T18:32:55.549070Z"
    },
    "papermill": {
     "duration": 78.06888,
     "end_time": "2025-10-03T18:41:30.836950",
     "exception": false,
     "start_time": "2025-10-03T18:40:12.768070",
     "status": "completed"
    },
    "tags": []
   },
   "outputs": [
    {
     "name": "stdout",
     "output_type": "stream",
     "text": [
      "Collecting torch==1.9.0\r\n",
      "  Downloading torch-1.9.0-cp37-cp37m-manylinux1_x86_64.whl (831.4 MB)\r\n",
      "\u001b[K     |████████████████████████████████| 831.4 MB 1.3 kB/s \r\n",
      "\u001b[?25hRequirement already satisfied: typing-extensions in /opt/conda/lib/python3.7/site-packages (from torch==1.9.0) (3.7.4.3)\r\n",
      "Installing collected packages: torch\r\n",
      "  Attempting uninstall: torch\r\n",
      "    Found existing installation: torch 1.7.0\r\n",
      "    Uninstalling torch-1.7.0:\r\n",
      "      Successfully uninstalled torch-1.7.0\r\n",
      "\u001b[31mERROR: pip's dependency resolver does not currently take into account all the packages that are installed. This behaviour is the source of the following dependency conflicts.\r\n",
      "fastai 2.3.0 requires torch<1.8,>=1.7.0, but you have torch 1.9.0 which is incompatible.\r\n",
      "allennlp 2.3.0 requires torch<1.9.0,>=1.6.0, but you have torch 1.9.0 which is incompatible.\u001b[0m\r\n",
      "Successfully installed torch-1.9.0\r\n",
      "Collecting fastparquet\r\n",
      "  Downloading fastparquet-0.8.1-cp37-cp37m-manylinux_2_17_x86_64.manylinux2014_x86_64.whl (1.5 MB)\r\n",
      "\u001b[K     |████████████████████████████████| 1.5 MB 5.5 MB/s \r\n",
      "\u001b[?25hRequirement already satisfied: numpy>=1.18 in /opt/conda/lib/python3.7/site-packages (from fastparquet) (1.19.5)\r\n",
      "Requirement already satisfied: fsspec in /opt/conda/lib/python3.7/site-packages (from fastparquet) (0.8.7)\r\n",
      "Collecting cramjam>=2.3.0\r\n",
      "  Downloading cramjam-2.8.3-cp37-cp37m-manylinux_2_17_x86_64.manylinux2014_x86_64.whl (2.0 MB)\r\n",
      "\u001b[K     |████████████████████████████████| 2.0 MB 67.9 MB/s \r\n",
      "\u001b[?25hRequirement already satisfied: pandas>=1.1.0 in /opt/conda/lib/python3.7/site-packages (from fastparquet) (1.1.5)\r\n",
      "Requirement already satisfied: python-dateutil>=2.7.3 in /opt/conda/lib/python3.7/site-packages (from pandas>=1.1.0->fastparquet) (2.8.1)\r\n",
      "Requirement already satisfied: pytz>=2017.2 in /opt/conda/lib/python3.7/site-packages (from pandas>=1.1.0->fastparquet) (2021.1)\r\n",
      "Requirement already satisfied: six>=1.5 in /opt/conda/lib/python3.7/site-packages (from python-dateutil>=2.7.3->pandas>=1.1.0->fastparquet) (1.15.0)\r\n",
      "Requirement already satisfied: importlib-metadata in /opt/conda/lib/python3.7/site-packages (from fsspec->fastparquet) (3.4.0)\r\n",
      "Requirement already satisfied: typing-extensions>=3.6.4 in /opt/conda/lib/python3.7/site-packages (from importlib-metadata->fsspec->fastparquet) (3.7.4.3)\r\n",
      "Requirement already satisfied: zipp>=0.5 in /opt/conda/lib/python3.7/site-packages (from importlib-metadata->fsspec->fastparquet) (3.4.1)\r\n",
      "Installing collected packages: cramjam, fastparquet\r\n",
      "Successfully installed cramjam-2.8.3 fastparquet-0.8.1\r\n"
     ]
    }
   ],
   "source": [
    "!pip install torch==1.9.0\n",
    "!pip install fastparquet"
   ]
  },
  {
   "cell_type": "code",
   "execution_count": 2,
   "id": "cultural-ranking",
   "metadata": {
    "execution": {
     "iopub.execute_input": "2025-10-03T18:41:31.413240Z",
     "iopub.status.busy": "2025-10-03T18:41:31.412609Z",
     "iopub.status.idle": "2025-10-03T18:41:31.847626Z",
     "shell.execute_reply": "2025-10-03T18:41:31.847198Z",
     "shell.execute_reply.started": "2025-10-03T18:33:06.994210Z"
    },
    "papermill": {
     "duration": 0.72136,
     "end_time": "2025-10-03T18:41:31.847737",
     "exception": false,
     "start_time": "2025-10-03T18:41:31.126377",
     "status": "completed"
    },
    "tags": []
   },
   "outputs": [
    {
     "data": {
      "text/plain": [
       "'1.9.0+cu102'"
      ]
     },
     "execution_count": 2,
     "metadata": {},
     "output_type": "execute_result"
    }
   ],
   "source": [
    "import torch\n",
    "torch.__version__"
   ]
  },
  {
   "cell_type": "code",
   "execution_count": 3,
   "id": "intense-chrome",
   "metadata": {
    "execution": {
     "iopub.execute_input": "2025-10-03T18:41:32.401549Z",
     "iopub.status.busy": "2025-10-03T18:41:32.401022Z",
     "iopub.status.idle": "2025-10-03T18:41:33.278893Z",
     "shell.execute_reply": "2025-10-03T18:41:33.279360Z",
     "shell.execute_reply.started": "2025-10-03T18:33:07.002382Z"
    },
    "papermill": {
     "duration": 1.154433,
     "end_time": "2025-10-03T18:41:33.279532",
     "exception": false,
     "start_time": "2025-10-03T18:41:32.125099",
     "status": "completed"
    },
    "tags": []
   },
   "outputs": [],
   "source": [
    "import pandas as pd\n",
    "pd.set_option('display.max_colwidth', None)\n",
    "from sklearn import preprocessing as pp\n",
    "from sklearn.model_selection import train_test_split\n",
    "import scipy.sparse as sp\n",
    "import numpy as np\n",
    "import random\n",
    "import torch.nn as nn\n",
    "from torch.utils.data import Dataset, DataLoader\n",
    "import time\n",
    "import matplotlib.pyplot as plt\n",
    "from tqdm import tqdm"
   ]
  },
  {
   "cell_type": "code",
   "execution_count": 4,
   "id": "ecological-ridge",
   "metadata": {
    "execution": {
     "iopub.execute_input": "2025-10-03T18:41:33.822257Z",
     "iopub.status.busy": "2025-10-03T18:41:33.821345Z",
     "iopub.status.idle": "2025-10-03T18:41:39.942988Z",
     "shell.execute_reply": "2025-10-03T18:41:39.942504Z",
     "shell.execute_reply.started": "2025-10-03T18:33:07.015219Z"
    },
    "papermill": {
     "duration": 6.395031,
     "end_time": "2025-10-03T18:41:39.943143",
     "exception": false,
     "start_time": "2025-10-03T18:41:33.548112",
     "status": "completed"
    },
    "tags": []
   },
   "outputs": [],
   "source": [
    "df = pd.read_parquet(\"../input/yambda/flat/50m/multi_event.parquet\", engine=\"fastparquet\")"
   ]
  },
  {
   "cell_type": "code",
   "execution_count": 5,
   "id": "automotive-queue",
   "metadata": {
    "execution": {
     "iopub.execute_input": "2025-10-03T18:41:41.832884Z",
     "iopub.status.busy": "2025-10-03T18:41:41.831950Z",
     "iopub.status.idle": "2025-10-03T18:41:51.102015Z",
     "shell.execute_reply": "2025-10-03T18:41:51.101499Z",
     "shell.execute_reply.started": "2025-10-03T18:33:11.727559Z"
    },
    "papermill": {
     "duration": 10.875902,
     "end_time": "2025-10-03T18:41:51.102158",
     "exception": false,
     "start_time": "2025-10-03T18:41:40.226256",
     "status": "completed"
    },
    "tags": []
   },
   "outputs": [],
   "source": [
    "df = df[df[\"event_type\"].isin([\"listen\", \"likes\"])][[\"uid\", \"item_id\", \"played_ratio_pct\"]]\n",
    "df = df[df[\"played_ratio_pct\"] >= 50][[\"uid\", \"item_id\"]]\n",
    "df = df.sample(n=100_000, random_state=42)"
   ]
  },
  {
   "cell_type": "code",
   "execution_count": 6,
   "id": "central-qatar",
   "metadata": {
    "execution": {
     "iopub.execute_input": "2025-10-03T18:41:51.645857Z",
     "iopub.status.busy": "2025-10-03T18:41:51.645070Z",
     "iopub.status.idle": "2025-10-03T18:41:51.653839Z",
     "shell.execute_reply": "2025-10-03T18:41:51.653416Z",
     "shell.execute_reply.started": "2025-10-03T18:33:31.884662Z"
    },
    "papermill": {
     "duration": 0.281766,
     "end_time": "2025-10-03T18:41:51.653991",
     "exception": false,
     "start_time": "2025-10-03T18:41:51.372225",
     "status": "completed"
    },
    "tags": []
   },
   "outputs": [],
   "source": [
    "train, test = train_test_split(df.values, test_size=0.2, random_state = 16)\n",
    "train = pd.DataFrame(train, columns = df.columns)\n",
    "test = pd.DataFrame(test, columns = df.columns)"
   ]
  },
  {
   "cell_type": "code",
   "execution_count": 7,
   "id": "atlantic-hunter",
   "metadata": {
    "execution": {
     "iopub.execute_input": "2025-10-03T18:41:52.209844Z",
     "iopub.status.busy": "2025-10-03T18:41:52.209239Z",
     "iopub.status.idle": "2025-10-03T18:41:52.212573Z",
     "shell.execute_reply": "2025-10-03T18:41:52.212970Z",
     "shell.execute_reply.started": "2025-10-03T18:33:40.293262Z"
    },
    "papermill": {
     "duration": 0.27728,
     "end_time": "2025-10-03T18:41:52.213117",
     "exception": false,
     "start_time": "2025-10-03T18:41:51.935837",
     "status": "completed"
    },
    "tags": []
   },
   "outputs": [
    {
     "name": "stdout",
     "output_type": "stream",
     "text": [
      "Train Size  :  80000\n",
      "Test Size :  20000\n"
     ]
    }
   ],
   "source": [
    "print(\"Train Size  : \", len(train))\n",
    "print(\"Test Size : \", len (test))"
   ]
  },
  {
   "cell_type": "markdown",
   "id": "blessed-microphone",
   "metadata": {
    "papermill": {
     "duration": 0.295215,
     "end_time": "2025-10-03T18:41:52.780519",
     "exception": false,
     "start_time": "2025-10-03T18:41:52.485304",
     "status": "completed"
    },
    "tags": []
   },
   "source": [
    "#### Label Encoding the User and Item IDs"
   ]
  },
  {
   "cell_type": "code",
   "execution_count": 8,
   "id": "valuable-victoria",
   "metadata": {
    "execution": {
     "iopub.execute_input": "2025-10-03T18:41:53.366234Z",
     "iopub.status.busy": "2025-10-03T18:41:53.365166Z",
     "iopub.status.idle": "2025-10-03T18:41:53.384595Z",
     "shell.execute_reply": "2025-10-03T18:41:53.384177Z",
     "shell.execute_reply.started": "2025-10-03T18:34:33.964450Z"
    },
    "papermill": {
     "duration": 0.326546,
     "end_time": "2025-10-03T18:41:53.384708",
     "exception": false,
     "start_time": "2025-10-03T18:41:53.058162",
     "status": "completed"
    },
    "tags": []
   },
   "outputs": [],
   "source": [
    "le_user = pp.LabelEncoder()\n",
    "le_item = pp.LabelEncoder()\n",
    "train['user_id_idx'] = le_user.fit_transform(train['uid'].values)\n",
    "train['item_id_idx'] = le_item.fit_transform(train['item_id'].values)"
   ]
  },
  {
   "cell_type": "code",
   "execution_count": 9,
   "id": "humanitarian-arctic",
   "metadata": {
    "execution": {
     "iopub.execute_input": "2025-10-03T18:41:53.931295Z",
     "iopub.status.busy": "2025-10-03T18:41:53.930383Z",
     "iopub.status.idle": "2025-10-03T18:41:53.941720Z",
     "shell.execute_reply": "2025-10-03T18:41:53.941200Z",
     "shell.execute_reply.started": "2025-10-03T18:34:42.899636Z"
    },
    "papermill": {
     "duration": 0.289708,
     "end_time": "2025-10-03T18:41:53.941846",
     "exception": false,
     "start_time": "2025-10-03T18:41:53.652138",
     "status": "completed"
    },
    "tags": []
   },
   "outputs": [
    {
     "name": "stdout",
     "output_type": "stream",
     "text": [
      "7585 40297\n",
      "13056\n"
     ]
    }
   ],
   "source": [
    "train_user_ids = train['uid'].unique()\n",
    "train_item_ids = train['item_id'].unique()\n",
    "\n",
    "print(len(train_user_ids), len(train_item_ids))\n",
    "\n",
    "test = test[(test['uid'].isin(train_user_ids)) & (test['item_id'].isin(train_item_ids))]\n",
    "print(len(test))"
   ]
  },
  {
   "cell_type": "code",
   "execution_count": 10,
   "id": "round-ranking",
   "metadata": {
    "execution": {
     "iopub.execute_input": "2025-10-03T18:41:54.492806Z",
     "iopub.status.busy": "2025-10-03T18:41:54.492284Z",
     "iopub.status.idle": "2025-10-03T18:41:54.502186Z",
     "shell.execute_reply": "2025-10-03T18:41:54.501595Z",
     "shell.execute_reply.started": "2025-10-03T18:34:45.595973Z"
    },
    "papermill": {
     "duration": 0.287957,
     "end_time": "2025-10-03T18:41:54.502324",
     "exception": false,
     "start_time": "2025-10-03T18:41:54.214367",
     "status": "completed"
    },
    "tags": []
   },
   "outputs": [],
   "source": [
    "test['user_id_idx'] = le_user.transform(test['uid'].values)\n",
    "test['item_id_idx'] = le_item.transform(test['item_id'].values)"
   ]
  },
  {
   "cell_type": "code",
   "execution_count": 11,
   "id": "renewable-algeria",
   "metadata": {
    "execution": {
     "iopub.execute_input": "2025-10-03T18:41:55.045547Z",
     "iopub.status.busy": "2025-10-03T18:41:55.044945Z",
     "iopub.status.idle": "2025-10-03T18:41:55.053074Z",
     "shell.execute_reply": "2025-10-03T18:41:55.053448Z",
     "shell.execute_reply.started": "2025-10-03T18:34:48.362171Z"
    },
    "papermill": {
     "duration": 0.284312,
     "end_time": "2025-10-03T18:41:55.053601",
     "exception": false,
     "start_time": "2025-10-03T18:41:54.769289",
     "status": "completed"
    },
    "tags": []
   },
   "outputs": [
    {
     "name": "stdout",
     "output_type": "stream",
     "text": [
      "Number of Unique Users :  7585\n",
      "Number of unique Items :  40297\n"
     ]
    }
   ],
   "source": [
    "n_users = train['user_id_idx'].nunique()\n",
    "n_items = train['item_id_idx'].nunique()\n",
    "print(\"Number of Unique Users : \", n_users)\n",
    "print(\"Number of unique Items : \", n_items)"
   ]
  },
  {
   "cell_type": "markdown",
   "id": "clear-pricing",
   "metadata": {
    "papermill": {
     "duration": 0.271824,
     "end_time": "2025-10-03T18:41:55.596366",
     "exception": false,
     "start_time": "2025-10-03T18:41:55.324542",
     "status": "completed"
    },
    "tags": []
   },
   "source": [
    "### latent_dim is the length of the user/item embedding. \n",
    "### n_layers is the number of times we want to propagate our initial user/item embedding through the graph "
   ]
  },
  {
   "cell_type": "code",
   "execution_count": 12,
   "id": "relevant-living",
   "metadata": {
    "execution": {
     "iopub.execute_input": "2025-10-03T18:41:56.149544Z",
     "iopub.status.busy": "2025-10-03T18:41:56.149008Z",
     "iopub.status.idle": "2025-10-03T18:41:56.152441Z",
     "shell.execute_reply": "2025-10-03T18:41:56.153341Z",
     "shell.execute_reply.started": "2025-10-03T18:34:48.739175Z"
    },
    "papermill": {
     "duration": 0.284777,
     "end_time": "2025-10-03T18:41:56.153622",
     "exception": false,
     "start_time": "2025-10-03T18:41:55.868845",
     "status": "completed"
    },
    "tags": []
   },
   "outputs": [],
   "source": [
    "latent_dim = 64\n",
    "n_layers = 3  "
   ]
  },
  {
   "cell_type": "code",
   "execution_count": 13,
   "id": "dense-spectacular",
   "metadata": {
    "execution": {
     "iopub.execute_input": "2025-10-03T18:41:56.733341Z",
     "iopub.status.busy": "2025-10-03T18:41:56.732272Z",
     "iopub.status.idle": "2025-10-03T18:41:56.734454Z",
     "shell.execute_reply": "2025-10-03T18:41:56.735365Z",
     "shell.execute_reply.started": "2025-10-03T18:34:48.744156Z"
    },
    "papermill": {
     "duration": 0.293382,
     "end_time": "2025-10-03T18:41:56.735574",
     "exception": false,
     "start_time": "2025-10-03T18:41:56.442192",
     "status": "completed"
    },
    "tags": []
   },
   "outputs": [],
   "source": [
    "def convert_to_sparse_tensor(dok_mtrx):\n",
    "    \n",
    "    dok_mtrx_coo = dok_mtrx.tocoo().astype(np.float32)\n",
    "    values = dok_mtrx_coo.data\n",
    "    indices = np.vstack((dok_mtrx_coo.row, dok_mtrx_coo.col))\n",
    "\n",
    "    i = torch.LongTensor(indices)\n",
    "    v = torch.FloatTensor(values)\n",
    "    shape = dok_mtrx_coo.shape\n",
    "\n",
    "    dok_mtrx_sparse_tensor = torch.sparse.FloatTensor(i, v, torch.Size(shape))\n",
    "\n",
    "    return dok_mtrx_sparse_tensor"
   ]
  },
  {
   "cell_type": "markdown",
   "id": "consistent-cartridge",
   "metadata": {
    "papermill": {
     "duration": 0.276312,
     "end_time": "2025-10-03T18:41:57.291173",
     "exception": false,
     "start_time": "2025-10-03T18:41:57.014861",
     "status": "completed"
    },
    "tags": []
   },
   "source": [
    "## **Metrics**\n",
    "### Below Function gets the 4 different metrics out of Test Data -> Recall@K, Precision@K, NDCG@K, MAP@K where K is the top K items we would like to recommend to User. "
   ]
  },
  {
   "cell_type": "code",
   "execution_count": 14,
   "id": "lightweight-chuck",
   "metadata": {
    "execution": {
     "iopub.execute_input": "2025-10-03T18:41:57.843587Z",
     "iopub.status.busy": "2025-10-03T18:41:57.842735Z",
     "iopub.status.idle": "2025-10-03T18:41:57.844886Z",
     "shell.execute_reply": "2025-10-03T18:41:57.845289Z",
     "shell.execute_reply.started": "2025-10-03T18:34:48.756343Z"
    },
    "papermill": {
     "duration": 0.28485,
     "end_time": "2025-10-03T18:41:57.845432",
     "exception": false,
     "start_time": "2025-10-03T18:41:57.560582",
     "status": "completed"
    },
    "tags": []
   },
   "outputs": [],
   "source": [
    "def get_metrics(user_Embed_wts, item_Embed_wts, n_users, n_items, train_data, test_data, K):\n",
    "\n",
    "    user_Embedding = nn.Embedding(user_Embed_wts.size()[0], user_Embed_wts.size()[1], _weight = user_Embed_wts)\n",
    "    item_Embedding = nn.Embedding(item_Embed_wts.size()[0], item_Embed_wts.size()[1], _weight = item_Embed_wts)\n",
    "\n",
    "    test_user_ids = torch.LongTensor(test_data['user_id_idx'].unique())\n",
    "\n",
    "    relevance_score = torch.matmul(user_Embed_wts, torch.transpose(item_Embed_wts,0, 1))\n",
    "\n",
    "    R = sp.dok_matrix((n_users, n_items), dtype = np.float32)\n",
    "    R[train_data['user_id_idx'], train_data['item_id_idx']] = 1.0\n",
    "\n",
    "    R_tensor = convert_to_sparse_tensor(R)\n",
    "    R_tensor_dense = R_tensor.to_dense()\n",
    "\n",
    "    R_tensor_dense = R_tensor_dense*(-np.inf)\n",
    "    R_tensor_dense = torch.nan_to_num(R_tensor_dense, nan=0.0)\n",
    "\n",
    "    relevance_score = relevance_score+R_tensor_dense\n",
    "\n",
    "    topk_relevance_score = torch.topk(relevance_score, K).values\n",
    "    topk_relevance_indices = torch.topk(relevance_score, K).indices\n",
    "\n",
    "    topk_relevance_indices_df = pd.DataFrame(topk_relevance_indices.numpy(),columns =['top_indx_'+str(x+1) for x in range(K)])\n",
    "\n",
    "    topk_relevance_indices_df['user_ID'] = topk_relevance_indices_df.index\n",
    " \n",
    "    topk_relevance_indices_df['top_rlvnt_itm'] = topk_relevance_indices_df[['top_indx_'+str(x+1) for x in range(K)]].values.tolist()\n",
    "    topk_relevance_indices_df = topk_relevance_indices_df[['user_ID','top_rlvnt_itm']]\n",
    "\n",
    "    test_interacted_items = test_data.groupby('user_id_idx')['item_id_idx'].apply(list).reset_index()\n",
    "\n",
    "    metrics_df = pd.merge(test_interacted_items,topk_relevance_indices_df, how= 'left', left_on = 'user_id_idx',right_on = ['user_ID'])\n",
    "    metrics_df['intrsctn_itm'] = [list(set(a).intersection(b)) for a, b in zip(metrics_df.item_id_idx, metrics_df.top_rlvnt_itm)]\n",
    "\n",
    "\n",
    "    metrics_df['recall'] = metrics_df.apply(lambda x : len(x['intrsctn_itm'])/len(x['item_id_idx']), axis = 1) \n",
    "    metrics_df['precision'] = metrics_df.apply(lambda x : len(x['intrsctn_itm'])/K, axis = 1)\n",
    "\n",
    "    def get_hit_list(item_id_idx, top_rlvnt_itm):\n",
    "        return [1 if x in set(item_id_idx) else 0 for x in top_rlvnt_itm ]\n",
    "\n",
    "    metrics_df['hit_list'] = metrics_df.apply(lambda x : get_hit_list(x['item_id_idx'], x['top_rlvnt_itm']), axis = 1)\n",
    "\n",
    "    def get_dcg_idcg(item_id_idx, hit_list):\n",
    "        idcg  = sum([1 / np.log1p(idx+1) for idx in range(min(len(item_id_idx),len(hit_list)))])\n",
    "        dcg =  sum([hit / np.log1p(idx+1) for idx, hit in enumerate(hit_list)])\n",
    "        return dcg/idcg\n",
    "\n",
    "    def get_cumsum(hit_list):\n",
    "        return np.cumsum(hit_list)\n",
    "\n",
    "    def get_map(item_id_idx, hit_list, hit_list_cumsum):\n",
    "        return sum([hit_cumsum*hit/(idx+1) for idx, (hit, hit_cumsum) in enumerate(zip(hit_list, hit_list_cumsum))])/len(item_id_idx)\n",
    "\n",
    "    metrics_df['ndcg'] = metrics_df.apply(lambda x : get_dcg_idcg(x['item_id_idx'], x['hit_list']), axis = 1)\n",
    "    metrics_df['hit_list_cumsum'] = metrics_df.apply(lambda x : get_cumsum(x['hit_list']), axis = 1)\n",
    "\n",
    "    metrics_df['map'] = metrics_df.apply(lambda x : get_map(x['item_id_idx'], x['hit_list'], x['hit_list_cumsum']), axis = 1)\n",
    "\n",
    "    return metrics_df['recall'].mean(), metrics_df['precision'].mean(), metrics_df['ndcg'].mean(), metrics_df['map'].mean() "
   ]
  },
  {
   "cell_type": "markdown",
   "id": "specified-plasma",
   "metadata": {
    "papermill": {
     "duration": 0.268181,
     "end_time": "2025-10-03T18:41:58.382110",
     "exception": false,
     "start_time": "2025-10-03T18:41:58.113929",
     "status": "completed"
    },
    "tags": []
   },
   "source": [
    "##  **LightGCN Model**\n",
    "### **get_A_tilda** function is used to get A_tilda which will be multiplied with initial user/item embedding (E0) to create embedding at different layers (n_layers = 3) in **propagate_through_layers** function\n",
    "### **forward** function is used to look up for initial(E0) and final embedding of a user/item"
   ]
  },
  {
   "cell_type": "code",
   "execution_count": 15,
   "id": "constitutional-pleasure",
   "metadata": {
    "execution": {
     "iopub.execute_input": "2025-10-03T18:41:58.940588Z",
     "iopub.status.busy": "2025-10-03T18:41:58.936210Z",
     "iopub.status.idle": "2025-10-03T18:41:58.946393Z",
     "shell.execute_reply": "2025-10-03T18:41:58.945791Z",
     "shell.execute_reply.started": "2025-10-03T18:34:48.774305Z"
    },
    "papermill": {
     "duration": 0.293841,
     "end_time": "2025-10-03T18:41:58.946528",
     "exception": false,
     "start_time": "2025-10-03T18:41:58.652687",
     "status": "completed"
    },
    "tags": []
   },
   "outputs": [],
   "source": [
    "class LightGCN(nn.Module):\n",
    "    def __init__(self, data, n_users, n_items, n_layers, latent_dim):\n",
    "        super(LightGCN, self).__init__()\n",
    "        self.data = data\n",
    "        self.n_users = n_users\n",
    "        self.n_items = n_items\n",
    "        self.n_layers = n_layers\n",
    "        self.latent_dim = latent_dim\n",
    "        self.init_embedding()\n",
    "        self.norm_adj_mat_sparse_tensor = self.get_A_tilda()\n",
    "\n",
    "    def init_embedding(self):\n",
    "        self.E0 = nn.Embedding(self.n_users + self.n_items, self.latent_dim)\n",
    "        nn.init.xavier_uniform_(self.E0.weight)\n",
    "        self.E0.weight = nn.Parameter(self.E0.weight)\n",
    "\n",
    "    def get_A_tilda(self):\n",
    "        R = sp.dok_matrix((self.n_users, self.n_items), dtype = np.float32)\n",
    "        R[self.data['user_id_idx'], self.data['item_id_idx']] = 1.0\n",
    "\n",
    "        adj_mat = sp.dok_matrix(\n",
    "                (self.n_users + self.n_items, self.n_users + self.n_items), dtype=np.float32\n",
    "            )\n",
    "        adj_mat = adj_mat.tolil()\n",
    "        R = R.tolil()\n",
    "\n",
    "        adj_mat[: n_users, n_users :] = R\n",
    "        adj_mat[n_users :, : n_users] = R.T\n",
    "        adj_mat = adj_mat.todok()\n",
    "\n",
    "        rowsum = np.array(adj_mat.sum(1))\n",
    "        d_inv = np.power(rowsum + 1e-9, -0.5).flatten()\n",
    "        d_inv[np.isinf(d_inv)] = 0.0\n",
    "        d_mat_inv = sp.diags(d_inv)\n",
    "        norm_adj_mat = d_mat_inv.dot(adj_mat)\n",
    "        norm_adj_mat = norm_adj_mat.dot(d_mat_inv)\n",
    "        \n",
    "        # Below Code is toconvert the dok_matrix to sparse tensor.\n",
    "        \n",
    "        norm_adj_mat_coo = norm_adj_mat.tocoo().astype(np.float32)\n",
    "        values = norm_adj_mat_coo.data\n",
    "        indices = np.vstack((norm_adj_mat_coo.row, norm_adj_mat_coo.col))\n",
    "\n",
    "        i = torch.LongTensor(indices)\n",
    "        v = torch.FloatTensor(values)\n",
    "        shape = norm_adj_mat_coo.shape\n",
    "\n",
    "        norm_adj_mat_sparse_tensor = torch.sparse.FloatTensor(i, v, torch.Size(shape))\n",
    "\n",
    "        return norm_adj_mat_sparse_tensor\n",
    "    \n",
    "    def propagate_through_layers(self):\n",
    "        all_layer_embedding = [self.E0.weight]\n",
    "        E_lyr = self.E0.weight\n",
    "\n",
    "        for layer in range(self.n_layers):\n",
    "            E_lyr = torch.sparse.mm(self.norm_adj_mat_sparse_tensor, E_lyr)\n",
    "            all_layer_embedding.append(E_lyr)\n",
    "\n",
    "        all_layer_embedding = torch.stack(all_layer_embedding)\n",
    "        mean_layer_embedding = torch.mean(all_layer_embedding, axis = 0)\n",
    "\n",
    "        final_user_Embed, final_item_Embed = torch.split(mean_layer_embedding, [n_users, n_items])\n",
    "        initial_user_Embed, initial_item_Embed = torch.split(self.E0.weight, [n_users, n_items])\n",
    "\n",
    "        return final_user_Embed, final_item_Embed, initial_user_Embed, initial_item_Embed\n",
    "\n",
    "    def forward(self, users, pos_items, neg_items):\n",
    "        final_user_Embed, final_item_Embed, initial_user_Embed, initial_item_Embed = self.propagate_through_layers()\n",
    "\n",
    "        users_emb, pos_emb, neg_emb = final_user_Embed[users], final_item_Embed[pos_items], final_item_Embed[neg_items]\n",
    "        userEmb0,  posEmb0, negEmb0 = initial_user_Embed[users], initial_item_Embed[pos_items], initial_item_Embed[neg_items]\n",
    "\n",
    "        return users_emb, pos_emb, neg_emb, userEmb0,  posEmb0, negEmb0"
   ]
  },
  {
   "cell_type": "code",
   "execution_count": 16,
   "id": "tested-oracle",
   "metadata": {
    "execution": {
     "execution_failed": "2025-10-03T18:38:52.208Z",
     "iopub.execute_input": "2025-10-03T18:41:59.494325Z",
     "iopub.status.busy": "2025-10-03T18:41:59.493708Z",
     "iopub.status.idle": "2025-10-03T18:42:16.498802Z",
     "shell.execute_reply": "2025-10-03T18:42:16.498326Z"
    },
    "papermill": {
     "duration": 17.285019,
     "end_time": "2025-10-03T18:42:16.498977",
     "exception": false,
     "start_time": "2025-10-03T18:41:59.213958",
     "status": "completed"
    },
    "tags": []
   },
   "outputs": [],
   "source": [
    "lightGCN = LightGCN(train, n_users, n_items, n_layers, latent_dim)"
   ]
  },
  {
   "cell_type": "code",
   "execution_count": 17,
   "id": "ordered-authority",
   "metadata": {
    "execution": {
     "execution_failed": "2025-10-03T18:38:52.209Z",
     "iopub.execute_input": "2025-10-03T18:42:17.040283Z",
     "iopub.status.busy": "2025-10-03T18:42:17.039694Z",
     "iopub.status.idle": "2025-10-03T18:42:17.042860Z",
     "shell.execute_reply": "2025-10-03T18:42:17.042439Z"
    },
    "papermill": {
     "duration": 0.274983,
     "end_time": "2025-10-03T18:42:17.043029",
     "exception": false,
     "start_time": "2025-10-03T18:42:16.768046",
     "status": "completed"
    },
    "tags": []
   },
   "outputs": [
    {
     "name": "stdout",
     "output_type": "stream",
     "text": [
      "Size of Learnable Embedding :  torch.Size([47882, 64])\n"
     ]
    }
   ],
   "source": [
    "print(\"Size of Learnable Embedding : \", list(lightGCN.parameters())[0].size())"
   ]
  },
  {
   "cell_type": "markdown",
   "id": "naval-character",
   "metadata": {
    "papermill": {
     "duration": 0.265244,
     "end_time": "2025-10-03T18:42:17.577983",
     "exception": false,
     "start_time": "2025-10-03T18:42:17.312739",
     "status": "completed"
    },
    "tags": []
   },
   "source": [
    "### **BPR Loss**"
   ]
  },
  {
   "cell_type": "code",
   "execution_count": 18,
   "id": "visible-worker",
   "metadata": {
    "execution": {
     "execution_failed": "2025-10-03T18:38:52.209Z",
     "iopub.execute_input": "2025-10-03T18:42:18.122396Z",
     "iopub.status.busy": "2025-10-03T18:42:18.121888Z",
     "iopub.status.idle": "2025-10-03T18:42:18.123808Z",
     "shell.execute_reply": "2025-10-03T18:42:18.124222Z"
    },
    "papermill": {
     "duration": 0.277768,
     "end_time": "2025-10-03T18:42:18.124369",
     "exception": false,
     "start_time": "2025-10-03T18:42:17.846601",
     "status": "completed"
    },
    "tags": []
   },
   "outputs": [],
   "source": [
    "def bpr_loss(users, users_emb, pos_emb, neg_emb, userEmb0,  posEmb0, negEmb0):\n",
    "  \n",
    "    reg_loss = (1/2)*(userEmb0.norm().pow(2) + \n",
    "                    posEmb0.norm().pow(2)  +\n",
    "                    negEmb0.norm().pow(2))/float(len(users))\n",
    "    pos_scores = torch.mul(users_emb, pos_emb)\n",
    "    pos_scores = torch.sum(pos_scores, dim=1)\n",
    "    neg_scores = torch.mul(users_emb, neg_emb)\n",
    "    neg_scores = torch.sum(neg_scores, dim=1)\n",
    "        \n",
    "    loss = torch.mean(torch.nn.functional.softplus(neg_scores - pos_scores))\n",
    "        \n",
    "    return loss, reg_loss"
   ]
  },
  {
   "cell_type": "markdown",
   "id": "random-mason",
   "metadata": {
    "papermill": {
     "duration": 0.269045,
     "end_time": "2025-10-03T18:42:18.662089",
     "exception": false,
     "start_time": "2025-10-03T18:42:18.393044",
     "status": "completed"
    },
    "tags": []
   },
   "source": [
    "### Data Loader - Samples users and for each user it sample 1 postive item - which User interacted with in Training Data and 1 negative item - with which User have not interacted."
   ]
  },
  {
   "cell_type": "code",
   "execution_count": 19,
   "id": "funded-blank",
   "metadata": {
    "execution": {
     "execution_failed": "2025-10-03T18:38:52.209Z",
     "iopub.execute_input": "2025-10-03T18:42:19.216694Z",
     "iopub.status.busy": "2025-10-03T18:42:19.216124Z",
     "iopub.status.idle": "2025-10-03T18:42:19.218765Z",
     "shell.execute_reply": "2025-10-03T18:42:19.218255Z"
    },
    "papermill": {
     "duration": 0.285762,
     "end_time": "2025-10-03T18:42:19.218929",
     "exception": false,
     "start_time": "2025-10-03T18:42:18.933167",
     "status": "completed"
    },
    "tags": []
   },
   "outputs": [],
   "source": [
    "def data_loader(data, batch_size, n_usr, n_itm):\n",
    "  \n",
    "    interected_items_df = data.groupby('user_id_idx')['item_id_idx'].apply(list).reset_index()\n",
    "  \n",
    "    def sample_neg(x):\n",
    "        while True:\n",
    "            neg_id = random.randint(0, n_itm - 1)\n",
    "            if neg_id not in x:\n",
    "                return neg_id\n",
    "  \n",
    "    indices = [x for x in range(n_usr)]\n",
    "    \n",
    "    if n_usr < batch_size:\n",
    "        users = [random.choice(indices) for _ in range(batch_size)]\n",
    "    else:\n",
    "        users = random.sample(indices, batch_size)\n",
    "\n",
    "    users.sort()\n",
    "  \n",
    "    users_df = pd.DataFrame(users,columns = ['users'])\n",
    "\n",
    "    interected_items_df = pd.merge(interected_items_df, users_df, how = 'right', left_on = 'user_id_idx', right_on = 'users')\n",
    "  \n",
    "    pos_items = interected_items_df['item_id_idx'].apply(lambda x : random.choice(x)).values\n",
    "\n",
    "    neg_items = interected_items_df['item_id_idx'].apply(lambda x: sample_neg(x)).values\n",
    "\n",
    "    return list(users), list(pos_items), list(neg_items)"
   ]
  },
  {
   "cell_type": "code",
   "execution_count": 20,
   "id": "aggressive-criminal",
   "metadata": {
    "execution": {
     "execution_failed": "2025-10-03T18:38:52.209Z",
     "iopub.execute_input": "2025-10-03T18:42:19.767145Z",
     "iopub.status.busy": "2025-10-03T18:42:19.766562Z",
     "iopub.status.idle": "2025-10-03T18:42:19.770573Z",
     "shell.execute_reply": "2025-10-03T18:42:19.770173Z"
    },
    "papermill": {
     "duration": 0.279426,
     "end_time": "2025-10-03T18:42:19.770686",
     "exception": false,
     "start_time": "2025-10-03T18:42:19.491260",
     "status": "completed"
    },
    "tags": []
   },
   "outputs": [],
   "source": [
    "optimizer = torch.optim.Adam(lightGCN.parameters(), lr = 0.005)"
   ]
  },
  {
   "cell_type": "code",
   "execution_count": 21,
   "id": "architectural-visiting",
   "metadata": {
    "execution": {
     "execution_failed": "2025-10-03T18:38:52.209Z",
     "iopub.execute_input": "2025-10-03T18:42:20.314854Z",
     "iopub.status.busy": "2025-10-03T18:42:20.314170Z",
     "iopub.status.idle": "2025-10-03T18:42:20.318147Z",
     "shell.execute_reply": "2025-10-03T18:42:20.317013Z"
    },
    "papermill": {
     "duration": 0.278136,
     "end_time": "2025-10-03T18:42:20.318361",
     "exception": false,
     "start_time": "2025-10-03T18:42:20.040225",
     "status": "completed"
    },
    "tags": []
   },
   "outputs": [],
   "source": [
    "EPOCHS = 10\n",
    "BATCH_SIZE = 1024 \n",
    "DECAY = 0.0001\n",
    "K = 10"
   ]
  },
  {
   "cell_type": "markdown",
   "id": "consistent-nickel",
   "metadata": {
    "papermill": {
     "duration": 0.269636,
     "end_time": "2025-10-03T18:42:20.853343",
     "exception": false,
     "start_time": "2025-10-03T18:42:20.583707",
     "status": "completed"
    },
    "tags": []
   },
   "source": [
    "### **Training Loop**"
   ]
  },
  {
   "cell_type": "code",
   "execution_count": 22,
   "id": "radio-knife",
   "metadata": {
    "execution": {
     "execution_failed": "2025-10-03T18:38:52.210Z",
     "iopub.execute_input": "2025-10-03T18:42:21.419497Z",
     "iopub.status.busy": "2025-10-03T18:42:21.418617Z",
     "iopub.status.idle": "2025-10-03T18:47:44.056395Z",
     "shell.execute_reply": "2025-10-03T18:47:44.055057Z"
    },
    "papermill": {
     "duration": 322.92341,
     "end_time": "2025-10-03T18:47:44.056531",
     "exception": false,
     "start_time": "2025-10-03T18:42:21.133121",
     "status": "completed"
    },
    "tags": []
   },
   "outputs": [
    {
     "name": "stderr",
     "output_type": "stream",
     "text": [
      "100%|██████████| 10/10 [05:22<00:00, 32.24s/it]\n"
     ]
    }
   ],
   "source": [
    "loss_list_epoch = []\n",
    "MF_loss_list_epoch = []\n",
    "reg_loss_list_epoch = []\n",
    "\n",
    "recall_list = []\n",
    "precision_list = []\n",
    "ndcg_list = []\n",
    "map_list = []\n",
    "\n",
    "train_time_list = []\n",
    "eval_time_list = [] \n",
    "\n",
    "for epoch in tqdm(range(EPOCHS)):\n",
    "    n_batch = int(len(train)/BATCH_SIZE)\n",
    "  \n",
    "    final_loss_list = []\n",
    "    MF_loss_list = []\n",
    "    reg_loss_list = []\n",
    "  \n",
    "    best_ndcg = -1\n",
    "  \n",
    "    train_start_time = time.time()\n",
    "    lightGCN.train()\n",
    "    for batch_idx in range(n_batch):\n",
    "\n",
    "        optimizer.zero_grad()\n",
    "\n",
    "        users, pos_items, neg_items = data_loader(train, BATCH_SIZE, n_users, n_items)\n",
    "\n",
    "        users_emb, pos_emb, neg_emb, userEmb0,  posEmb0, negEmb0 = lightGCN.forward(users, pos_items, neg_items)\n",
    "\n",
    "        mf_loss, reg_loss = bpr_loss(users, users_emb, pos_emb, neg_emb, userEmb0,  posEmb0, negEmb0)\n",
    "        reg_loss = DECAY * reg_loss\n",
    "        final_loss = mf_loss + reg_loss\n",
    "\n",
    "        final_loss.backward()\n",
    "        optimizer.step()\n",
    "\n",
    "        final_loss_list.append(final_loss.item())\n",
    "        MF_loss_list.append(mf_loss.item())\n",
    "        reg_loss_list.append(reg_loss.item())\n",
    "\n",
    "\n",
    "    train_end_time = time.time()\n",
    "    train_time = train_end_time - train_start_time\n",
    "\n",
    "    lightGCN.eval()\n",
    "    with torch.no_grad():\n",
    "    \n",
    "        final_user_Embed, final_item_Embed, initial_user_Embed,initial_item_Embed = lightGCN.propagate_through_layers()\n",
    "        test_topK_recall,  test_topK_precision, test_topK_ndcg, test_topK_map  = get_metrics(final_user_Embed, final_item_Embed, n_users, n_items, train, test, K)\n",
    "\n",
    "\n",
    "    if test_topK_ndcg > best_ndcg:\n",
    "        best_ndcg = test_topK_ndcg\n",
    "      \n",
    "        torch.save(final_user_Embed, 'final_user_Embed.pt')\n",
    "        torch.save(final_item_Embed, 'final_item_Embed.pt')\n",
    "        torch.save(initial_user_Embed, 'initial_user_Embed.pt')\n",
    "        torch.save(initial_item_Embed, 'initial_item_Embed.pt')\n",
    "     \n",
    "\n",
    "    eval_time = time.time() - train_end_time\n",
    "\n",
    "    loss_list_epoch.append(round(np.mean(final_loss_list),4))\n",
    "    MF_loss_list_epoch.append(round(np.mean(MF_loss_list),4))\n",
    "    reg_loss_list_epoch.append(round(np.mean(reg_loss_list),4))\n",
    "\n",
    "    recall_list.append(round(test_topK_recall,4))\n",
    "    precision_list.append(round(test_topK_precision,4))\n",
    "    ndcg_list.append(round(test_topK_ndcg,4))\n",
    "    map_list.append(round(test_topK_map,4))\n",
    "\n",
    "    train_time_list.append(train_time)\n",
    "    eval_time_list.append(eval_time)  "
   ]
  },
  {
   "cell_type": "code",
   "execution_count": 23,
   "id": "unlikely-bedroom",
   "metadata": {
    "execution": {
     "execution_failed": "2025-10-03T18:38:52.210Z",
     "iopub.execute_input": "2025-10-03T18:47:44.597758Z",
     "iopub.status.busy": "2025-10-03T18:47:44.597080Z",
     "iopub.status.idle": "2025-10-03T18:47:44.600127Z",
     "shell.execute_reply": "2025-10-03T18:47:44.599578Z"
    },
    "papermill": {
     "duration": 0.275409,
     "end_time": "2025-10-03T18:47:44.600249",
     "exception": false,
     "start_time": "2025-10-03T18:47:44.324840",
     "status": "completed"
    },
    "tags": []
   },
   "outputs": [],
   "source": [
    "epoch_list = [(i+1) for i in range(EPOCHS)]"
   ]
  },
  {
   "cell_type": "code",
   "execution_count": 24,
   "id": "talented-decrease",
   "metadata": {
    "execution": {
     "execution_failed": "2025-10-03T18:38:52.210Z",
     "iopub.execute_input": "2025-10-03T18:47:45.150177Z",
     "iopub.status.busy": "2025-10-03T18:47:45.149165Z",
     "iopub.status.idle": "2025-10-03T18:47:45.298590Z",
     "shell.execute_reply": "2025-10-03T18:47:45.298167Z"
    },
    "papermill": {
     "duration": 0.431851,
     "end_time": "2025-10-03T18:47:45.298704",
     "exception": false,
     "start_time": "2025-10-03T18:47:44.866853",
     "status": "completed"
    },
    "tags": []
   },
   "outputs": [
    {
     "data": {
      "text/plain": [
       "<matplotlib.legend.Legend at 0x7bc89ba96990>"
      ]
     },
     "execution_count": 24,
     "metadata": {},
     "output_type": "execute_result"
    },
    {
     "data": {
      "image/png": "[encoded data removed]",
      "text/plain": [
       "<Figure size 432x288 with 1 Axes>"
      ]
     },
     "metadata": {
      "needs_background": "light"
     },
     "output_type": "display_data"
    }
   ],
   "source": [
    "plt.plot(epoch_list, recall_list, label='Recall')\n",
    "plt.plot(epoch_list, precision_list, label='Precision')\n",
    "plt.plot(epoch_list, ndcg_list, label='NDCG')\n",
    "plt.plot(epoch_list, map_list, label='MAP')\n",
    "plt.xlabel('Epoch')\n",
    "plt.ylabel('Metrics')\n",
    "plt.legend()"
   ]
  },
  {
   "cell_type": "code",
   "execution_count": 25,
   "id": "exciting-slovakia",
   "metadata": {
    "execution": {
     "execution_failed": "2025-10-03T18:38:52.210Z",
     "iopub.execute_input": "2025-10-03T18:47:45.864605Z",
     "iopub.status.busy": "2025-10-03T18:47:45.849374Z",
     "iopub.status.idle": "2025-10-03T18:47:45.989251Z",
     "shell.execute_reply": "2025-10-03T18:47:45.988656Z"
    },
    "papermill": {
     "duration": 0.413744,
     "end_time": "2025-10-03T18:47:45.989377",
     "exception": false,
     "start_time": "2025-10-03T18:47:45.575633",
     "status": "completed"
    },
    "tags": []
   },
   "outputs": [
    {
     "data": {
      "text/plain": [
       "<matplotlib.legend.Legend at 0x7bc89c1cc410>"
      ]
     },
     "execution_count": 25,
     "metadata": {},
     "output_type": "execute_result"
    },
    {
     "data": {
      "image/png": "[encoded data removed]",
      "text/plain": [
       "<Figure size 432x288 with 1 Axes>"
      ]
     },
     "metadata": {
      "needs_background": "light"
     },
     "output_type": "display_data"
    }
   ],
   "source": [
    "plt.plot(epoch_list, loss_list_epoch, label='Total Training Loss')\n",
    "plt.plot(epoch_list, MF_loss_list_epoch, label='MF Training Loss')\n",
    "plt.plot(epoch_list, reg_loss_list_epoch, label='Reg Training Loss')\n",
    "\n",
    "plt.xlabel('Epoch')\n",
    "plt.ylabel('Loss')\n",
    "plt.legend()"
   ]
  },
  {
   "cell_type": "code",
   "execution_count": 26,
   "id": "manufactured-composite",
   "metadata": {
    "execution": {
     "execution_failed": "2025-10-03T18:38:52.210Z",
     "iopub.execute_input": "2025-10-03T18:47:46.535264Z",
     "iopub.status.busy": "2025-10-03T18:47:46.534422Z",
     "iopub.status.idle": "2025-10-03T18:47:46.537323Z",
     "shell.execute_reply": "2025-10-03T18:47:46.537725Z"
    },
    "papermill": {
     "duration": 0.280332,
     "end_time": "2025-10-03T18:47:46.537898",
     "exception": false,
     "start_time": "2025-10-03T18:47:46.257566",
     "status": "completed"
    },
    "tags": []
   },
   "outputs": [
    {
     "name": "stdout",
     "output_type": "stream",
     "text": [
      "Averge time taken to train an epoch ->  26.79  seconds\n",
      "Averge time taken to eval an epoch ->  5.45  seconds\n"
     ]
    }
   ],
   "source": [
    "print(\"Averge time taken to train an epoch -> \", round(np.mean(train_time_list),2), \" seconds\")\n",
    "print(\"Averge time taken to eval an epoch -> \", round(np.mean(eval_time_list),2), \" seconds\")"
   ]
  },
  {
   "cell_type": "code",
   "execution_count": 27,
   "id": "processed-fourth",
   "metadata": {
    "execution": {
     "execution_failed": "2025-10-03T18:38:52.211Z",
     "iopub.execute_input": "2025-10-03T18:47:47.082136Z",
     "iopub.status.busy": "2025-10-03T18:47:47.081050Z",
     "iopub.status.idle": "2025-10-03T18:47:47.084712Z",
     "shell.execute_reply": "2025-10-03T18:47:47.084287Z"
    },
    "papermill": {
     "duration": 0.279653,
     "end_time": "2025-10-03T18:47:47.084838",
     "exception": false,
     "start_time": "2025-10-03T18:47:46.805185",
     "status": "completed"
    },
    "tags": []
   },
   "outputs": [
    {
     "name": "stdout",
     "output_type": "stream",
     "text": [
      "Last Epoch's Test Data Recall ->  0.0086\n",
      "Last Epoch's Test Data Precision ->  0.0021\n",
      "Last Epoch's Test Data NDCG ->  0.0057\n",
      "Last Epoch's Test Data MAP ->  0.0032\n",
      "Last Epoch's Train Data Loss ->  0.0124\n"
     ]
    }
   ],
   "source": [
    "print(\"Last Epoch's Test Data Recall -> \", recall_list[-1])\n",
    "print(\"Last Epoch's Test Data Precision -> \", precision_list[-1])\n",
    "print(\"Last Epoch's Test Data NDCG -> \", ndcg_list[-1])\n",
    "print(\"Last Epoch's Test Data MAP -> \", map_list[-1])\n",
    "\n",
    "print(\"Last Epoch's Train Data Loss -> \", loss_list_epoch[-1])"
   ]
  }
 ],
 "metadata": {
  "kaggle": {
   "accelerator": "gpu",
   "dataSources": [
    {
     "datasetId": 8099472,
     "sourceId": 12809144,
     "sourceType": "datasetVersion"
    }
   ],
   "dockerImageVersionId": 30096,
   "isGpuEnabled": true,
   "isInternetEnabled": true,
   "language": "python",
   "sourceType": "notebook"
  },
  "kernelspec": {
   "display_name": "Python 3",
   "language": "python",
   "name": "python3"
  },
  "language_info": {
   "codemirror_mode": {
    "name": "ipython",
    "version": 3
   },
   "file_extension": ".py",
   "mimetype": "text/x-python",
   "name": "python",
   "nbconvert_exporter": "python",
   "pygments_lexer": "ipython3",
   "version": "3.7.10"
  },
  "papermill": {
   "default_parameters": {},
   "duration": 461.802175,
   "end_time": "2025-10-03T18:47:48.160757",
   "environment_variables": {},
   "exception": null,
   "input_path": "__notebook__.ipynb",
   "output_path": "__notebook__.ipynb",
   "parameters": {},
   "start_time": "2025-10-03T18:40:06.358582",
   "version": "2.3.3"
  }
 },
 "nbformat": 4,
 "nbformat_minor": 5
}
